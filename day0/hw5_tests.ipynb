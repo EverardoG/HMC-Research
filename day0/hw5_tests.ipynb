{
 "cells": [
  {
   "cell_type": "code",
   "execution_count": 52,
   "metadata": {
    "scrolled": false
   },
   "outputs": [],
   "source": [
    "import os\n",
    "import os.path\n",
    "\n",
    "\n",
    "\"\"\"\n",
    "This code goes through all of the phone book files and stores all of the information found\n",
    "into a csv\n",
    "\"\"\"\n",
    "\n",
    "def get_all_txt_files(path = \".\"):\n",
    "    \"\"\"This function walks through the subdirectories of the given path and returns a list of all\n",
    "    the text file directories nested in this path as well as text files within the initial directory\"\"\"\n",
    "    AllFiles = list(os.walk(path)) #getting all files into a data structure\n",
    "    all_txt_files = []\n",
    "    file_list = []\n",
    "\n",
    "    for dir_tuple in AllFiles:\n",
    "        file_list = dir_tuple[2]\n",
    "        for file_name in file_list:\n",
    "            if file_name[-3:] == 'txt':\n",
    "                all_txt_files.append(dir_tuple[0]+'/'+file_name)\n",
    "    return all_txt_files\n",
    "\n",
    "all_phone_files = get_all_txt_files(\"./phone_files\")\n",
    "\n",
    "all_phone_info = []\n",
    "\n",
    "for phone_file in all_phone_files:\n",
    "    f = open(phone_file,'r',encoding = 'latin1')\n",
    "    contents = f.read()\n",
    "    content_list = contents.split()\n",
    "\n",
    "    if content_list[-2][-1] == \",\":\n",
    "        last_name = content_list[-2][:-1]\n",
    "        first_name = content_list[-1]\n",
    "    else:\n",
    "        last_name = content_list[-1]\n",
    "        first_name = content_list[-2]\n",
    "    \n",
    "    numbers = ['0','1','2','3','4','5','6','7','8','9']\n",
    "    phone_number = \"\"\n",
    "    for item in content_list:\n",
    "        for character in item:\n",
    "            if character in numbers:\n",
    "                phone_number += character\n",
    "                \n",
    "    phone_info = (last_name,first_name,phone_number)\n",
    "    all_phone_info.append(phone_info)\n",
    "\n",
    "download_dir = \"./phone_book.csv\"\n",
    "csv = open(download_dir, \"w\")\n",
    "\n",
    "column_title_row = \"Last Name, First Name, Phone Number (Digits Only)\\n\"\n",
    "csv.write(column_title_row)\n",
    "\n",
    "for phone_info in all_phone_info:\n",
    "    csv_info = ','.join(map(str,phone_info))+\"\\n\"\n",
    "    csv.write(csv_info)"
   ]
  },
  {
   "cell_type": "code",
   "execution_count": 53,
   "metadata": {},
   "outputs": [
    {
     "name": "stdout",
     "output_type": "stream",
     "text": [
      "['Last Name', ' First Name', ' Phone Number (Digits Only)']\n",
      "['LOPEZ', 'WAYNE', '2515446593']\n",
      "['LEE', 'EARL', '8972435']\n",
      "['JONES', 'GERALD', '2236381']\n",
      "['GARCIA', 'NICHOLAS', '7294843']\n",
      "['LEWIS', 'NANCY', '3754601']\n",
      "['WILLIAMS', 'ERIC', '6713296288']\n",
      "['SMITH', 'LOIS', '4317568367']\n",
      "['ALLEN', 'LAURA', '5912173']\n",
      "['GREEN', 'ERIC', '5355858']\n",
      "['SANCHEZ', 'MARIA', '7134680']\n",
      "['DAVIS', 'LARRY', '3465227890']\n",
      "['ADAMS', 'FRED', '4193812982']\n",
      "['MOORE', 'DORIS', '7684564']\n",
      "['WALKER', 'DOROTHY', '5165300']\n",
      "['LEWIS', 'HENRY', '1728260']\n",
      "['RAMIREZ', 'LAURA', '1313059']\n",
      "['SANCHEZ', 'JEREMY', '8649243']\n",
      "['MARTIN', 'JEAN', '8478175']\n",
      "['SCOTT', 'TINA', '8668283367']\n",
      "['ALLEN', 'DAVID', '8311305254']\n",
      "['DAVIS', 'TRACY', '5125659720']\n",
      "['ALLEN', 'SHARON', '5179872']\n",
      "['THOMAS', 'RANDY', '5815207092']\n",
      "['JACKSON', 'RICHARD', '3617931704']\n",
      "['KING', 'KATHERINE', '8209744']\n",
      "['BROWN', 'STEPHANIE', '2604692449']\n",
      "['PEREZ', 'ANNA', '9977569']\n",
      "['SMITH', 'CINDY', '7837386']\n",
      "['TAYLOR', 'ANTHONY', '7393603']\n",
      "['YOUNG', 'DENNIS', '7849637778']\n",
      "['WHITE', 'LOUIS', '6862556']\n",
      "['HARRIS', 'PATRICK', '3809772']\n",
      "['YOUNG', 'SANDRA', '8444468194']\n",
      "['WILLIAMS', 'KEVIN', '1609797']\n",
      "['ROBINSON', 'KIMBERLY', '5754903']\n",
      "['NELSON', 'JERRY', '9179124']\n",
      "['LOPEZ', 'JOSEPH', '5771506']\n",
      "['DAVIS', 'WAYNE', '5084878']\n",
      "['RODRIGUEZ', 'BETTY', '6007207']\n",
      "['JONES', 'JONATHAN', '7648735930']\n",
      "['WALKER', 'BENJAMIN', '17812165700']\n",
      "['PEREZ', 'ALICE', '5572567834']\n",
      "['THOMAS', 'JOAN', '9363873152']\n",
      "['HARRIS', 'JONATHAN', '6655362']\n"
     ]
    }
   ],
   "source": [
    "import csv\n",
    "with open(download_dir, 'rt') as f:\n",
    "    reader = csv.reader(f)\n",
    "    for row in reader:\n",
    "        print(row)"
   ]
  },
  {
   "cell_type": "code",
   "execution_count": null,
   "metadata": {
    "collapsed": true
   },
   "outputs": [],
   "source": []
  },
  {
   "cell_type": "code",
   "execution_count": null,
   "metadata": {
    "collapsed": true
   },
   "outputs": [],
   "source": []
  }
 ],
 "metadata": {
  "kernelspec": {
   "display_name": "Python 3",
   "language": "python",
   "name": "python3"
  },
  "language_info": {
   "codemirror_mode": {
    "name": "ipython",
    "version": 3
   },
   "file_extension": ".py",
   "mimetype": "text/x-python",
   "name": "python",
   "nbconvert_exporter": "python",
   "pygments_lexer": "ipython3",
   "version": "3.6.3"
  }
 },
 "nbformat": 4,
 "nbformat_minor": 2
}
