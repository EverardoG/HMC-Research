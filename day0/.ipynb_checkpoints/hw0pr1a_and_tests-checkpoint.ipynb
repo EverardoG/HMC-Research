{
 "cells": [
  {
   "cell_type": "code",
   "execution_count": 2,
   "metadata": {
    "collapsed": true
   },
   "outputs": [],
   "source": [
    "def times42(s):\n",
    "    \"\"\"\n",
    "    Input: an integer value\n",
    "    Output: None\n",
    "    This function prints 42 s times\n",
    "    \"\"\"\n",
    "    for i in range(s):\n",
    "        print \"42 \\n\""
   ]
  },
  {
   "cell_type": "code",
   "execution_count": 5,
   "metadata": {
    "collapsed": true
   },
   "outputs": [],
   "source": [
    "def alien(N):\n",
    "    \"\"\"\n",
    "    Input: N - integer value\n",
    "    Output: a string, \"alien\" with an amount of i's equal to N\n",
    "    \"\"\"\n",
    "    return \"al\"+N*\"i\"+\"en\""
   ]
  },
  {
   "cell_type": "code",
   "execution_count": 31,
   "metadata": {
    "collapsed": true
   },
   "outputs": [],
   "source": [
    "def count_digits(s):\n",
    "    \"\"\"\n",
    "    Input: s - string\n",
    "    Output: an integer value equal to how many digits are in s\n",
    "    \"\"\"\n",
    "    count = 0\n",
    "    for c in s:\n",
    "        if c.isdigit():\n",
    "            count += 1\n",
    "    return count\n",
    "\n",
    "def count_digits_alt(s):\n",
    "    \"\"\"\n",
    "    same as above\n",
    "    \"\"\"\n",
    "    return len(list(filter(lambda x: x.isdigit(), s)))"
   ]
  },
  {
   "cell_type": "code",
   "execution_count": 14,
   "metadata": {
    "collapsed": true
   },
   "outputs": [],
   "source": [
    "def clean_digits(s):\n",
    "    \"\"\"\n",
    "    Input: s - string\n",
    "    Output: clean_d - a string with only the digits of s\"\"\"\n",
    "    clean_d = \"\"\n",
    "    for c in s:\n",
    "        if c.isdigit():\n",
    "            clean_d += c\n",
    "    return clean_d"
   ]
  },
  {
   "cell_type": "code",
   "execution_count": 38,
   "metadata": {
    "collapsed": true
   },
   "outputs": [],
   "source": [
    "def clean_word(s):\n",
    "    \"\"\"\n",
    "    Input: s - a string\n",
    "    Output: a string that contains only the letters of s, and in all lowercase\n",
    "    \"\"\"\n",
    "    clean_w = \"\"\n",
    "    for c in s:\n",
    "        if c.isdigit() == False:\n",
    "            clean_w += c\n",
    "    return clean_w.lower()"
   ]
  },
  {
   "cell_type": "code",
   "execution_count": 16,
   "metadata": {},
   "outputs": [
    {
     "name": "stdout",
     "output_type": "stream",
     "text": [
      "['./phone_files/00/06.txt', './phone_files/00/09.txt', './phone_files/00/08.txt', './phone_files/00/02.txt', './phone_files/00/00.txt', './phone_files/00/03.txt', './phone_files/00/04.txt', './phone_files/00/07.txt', './phone_files/00/05.txt', './phone_files/00/10.txt', './phone_files/00/01.txt', './phone_files/01/68.txt', './phone_files/01/72.txt', './phone_files/01/71.txt', './phone_files/01/64.txt', './phone_files/01/86.txt', './phone_files/01/61.txt', './phone_files/01/56.txt', './phone_files/01/57.txt', './phone_files/01/54.txt', './phone_files/01/63.txt', './phone_files/01/84.txt', './phone_files/01/78.txt', './phone_files/01/75.txt', './phone_files/01/85.txt', './phone_files/01/83.txt', './phone_files/01/77.txt', './phone_files/01/80.txt', './phone_files/01/58.txt', './phone_files/01/76.txt', './phone_files/01/82.txt', './phone_files/01/55.txt', './phone_files/01/59.txt', './phone_files/01/81.txt', './phone_files/01/62.txt', './phone_files/01/66.txt', './phone_files/01/69.txt', './phone_files/01/79.txt', './phone_files/01/67.txt', './phone_files/01/60.txt', './phone_files/01/73.txt', './phone_files/01/70.txt', './phone_files/01/74.txt', './phone_files/01/65.txt', './hp/hp1.txt', './hp/samiam.txt', './hp/hp4.txt', './test/big_dog.txt', './test/sub1/hello.txt', './test/sub1/superSub1/superDuperSub2/cool_dog.txt', './addresses/2009.txt', './addresses/2005.txt', './addresses/2013.txt']\n"
     ]
    }
   ],
   "source": [
    "#this is for random tests\n",
    "import os\n",
    "path = '.'\n",
    "AllFiles = list(os.walk(path)) #getting all files into a data structure\n",
    "all_txt_files = []\n",
    "file_list = []\n",
    "\n",
    "for dir_tuple in AllFiles:\n",
    "    file_list = dir_tuple[2]\n",
    "    for file in file_list:\n",
    "        if file[-3:] == 'txt':\n",
    "            all_txt_files.append(dir_tuple[0]+'/'+file)\n",
    "            \n",
    "print(all_txt_files)"
   ]
  },
  {
   "cell_type": "code",
   "execution_count": 17,
   "metadata": {
    "collapsed": true
   },
   "outputs": [],
   "source": [
    "f = open('./phone_files/00/06.txt','r',encoding = 'latin1')\n",
    "contents = f.read()"
   ]
  },
  {
   "cell_type": "code",
   "execution_count": 21,
   "metadata": {},
   "outputs": [
    {
     "name": "stdout",
     "output_type": "stream",
     "text": [
      "(251) 5446593\n",
      "WAYNE LOPEZ\n",
      "\n"
     ]
    }
   ],
   "source": [
    "print(contents)"
   ]
  },
  {
   "cell_type": "code",
   "execution_count": 24,
   "metadata": {},
   "outputs": [
    {
     "name": "stdout",
     "output_type": "stream",
     "text": [
      "phone_files\n"
     ]
    }
   ],
   "source": [
    "print(all_txt_files[0][2:13])"
   ]
  },
  {
   "cell_type": "code",
   "execution_count": 41,
   "metadata": {},
   "outputs": [
    {
     "data": {
      "text/plain": [
       "'./phone_files/01/73.txt'"
      ]
     },
     "execution_count": 41,
     "metadata": {},
     "output_type": "execute_result"
    }
   ],
   "source": [
    "#trying to get list of only files in phone_files folder\n",
    "phone_files = list(filter(lambda x: x[2:13] == 'phone_files', all_txt_files))\n",
    "most_digits = 0\n",
    "longest_number = \"This variable is intentionally left blank\"\n",
    "\n",
    "for phone_file in phone_files:\n",
    "    f = open(phone_file,'r',encoding = 'latin1')\n",
    "    contents = f.read()\n",
    "    num_digits = count_digits_alt(contents)\n",
    "    \n",
    "    if num_digits > most_digits:\n",
    "        most_digits = num_digits\n",
    "        longest_number = phone_file\n",
    "longest_number"
   ]
  },
  {
   "cell_type": "code",
   "execution_count": 8,
   "metadata": {},
   "outputs": [],
   "source": [
    "#testing things for hw0pr3\n",
    "\n",
    "import os\n",
    "import os.path\n",
    "import shutil\n",
    "\n",
    "def get_all_txt_files(path = \".\"):\n",
    "    \"\"\"This function walks through the subdirectories of the given path and returns a list of all\n",
    "    the text file directories nested in this path as well as text files within the initial directory\"\"\"\n",
    "    AllFiles = list(os.walk(path)) #getting all files into a data structure\n",
    "    all_txt_files = []\n",
    "    file_list = []\n",
    "\n",
    "    for dir_tuple in AllFiles:\n",
    "        file_list = dir_tuple[2]\n",
    "        for file_name in file_list:\n",
    "            if file_name[-3:] == 'txt':\n",
    "                all_txt_files.append(dir_tuple[0]+'/'+file_name)\n",
    "    return all_txt_files"
   ]
  },
  {
   "cell_type": "code",
   "execution_count": 29,
   "metadata": {},
   "outputs": [],
   "source": [
    "all_txt_files = get_all_txt_files(\"./recipes\")\n",
    "sweet_words = ['sweet']\n",
    "savory_words = ['savory']\n",
    "\n",
    "sweet_list = []\n",
    "savory_list = []\n",
    "mystery_list = []\n",
    "\n",
    "for recipe in all_txt_files:\n",
    "    f = open(recipe,'r',encoding = 'latin1')\n",
    "    contents = f.read()\n",
    "    lower_key_words = contents.lower()\n",
    "    key_words_list = lower_key_words.split()\n",
    "    if any(x in sweet_words for x in key_words_list):\n",
    "        sweet_list.append(recipe)\n",
    "    elif any(x in savory_words for x in key_words_list):\n",
    "        savory_list.append(recipe)\n",
    "    else:\n",
    "        mystery_list.append(recipe)\n",
    "    "
   ]
  },
  {
   "cell_type": "code",
   "execution_count": 30,
   "metadata": {
    "scrolled": false
   },
   "outputs": [
    {
     "name": "stdout",
     "output_type": "stream",
     "text": [
      "['./recipes/recipe12.txt', './recipes/recipe25.txt', './recipes/recipe33.txt', './recipes/recipe20.txt', './recipes/recipe48.txt', './recipes/recipe41.txt', './recipes/recipe39.txt', './recipes/recipe26.txt', './recipes/recipe29.txt', './recipes/recipe35.txt', './recipes/recipe4.txt', './recipes/recipe5.txt', './recipes/recipe8.txt', './recipes/recipe11.txt', './recipes/recipe45.txt', './recipes/recipe27.txt', './recipes/recipe24.txt', './recipes/recipe22.txt', './recipes/recipe40.txt', './recipes/recipe31.txt', './recipes/recipe47.txt', './recipes/recipe34.txt', './recipes/recipe2.txt', './recipes/recipe16.txt', './recipes/recipe28.txt', './recipes/recipe30.txt', './recipes/recipes 2001/recipe84.txt', './recipes/recipes 2001/recipe83.txt', './recipes/recipes 2001/recipe89.txt', './recipes/recipes 2001/recipe79.txt', './recipes/recipes 2001/recipe86.txt', './recipes/recipes 2001/recipe76.txt', './recipes/recipes 2001/recipe73.txt', './recipes/recipes 2001/recipe72.txt', './recipes/recipes 2009/recipe243.txt', './recipes/recipes 2009/recipe241.txt', './recipes/recipes 2009/recipe231.txt', './recipes/recipes 2009/recipe233.txt', './recipes/recipes 2009/recipe248.txt', './recipes/recipes 2009/recipe249.txt', './recipes/recipes 2009/recipe246.txt', './recipes/recipes 2009/recipe239.txt', './recipes/recipes 2009/recipe247.txt', './recipes/recipes 2009/recipe238.txt', './recipes/recipes 2009/recipe245.txt', './recipes/recipes 2009/recipe232.txt', './recipes/recipes 2005/recipe_for_disaster.txt', './recipes/recipes 2005/recipe168.txt', './recipes/recipes 2005/recipe161.txt', './recipes/recipes 2005/recipe153.txt', './recipes/recipes 2005/recipe159.txt', './recipes/recipes 2005/recipe169.txt', './recipes/recipes 2005/recipe154.txt', './recipes/recipes 2005/recipe158.txt', './recipes/recipes 2005/recipe167.txt', './recipes/recipes 2005/recipe170.txt', './recipes/recipes 2005/recipe151.txt', './recipes/recipes 2005/recipe162.txt', './recipes/recipes 2005/recipe164.txt', './recipes/recipes 2005/recipe157.txt', './recipes/recipes 2007/recipe209.txt', './recipes/recipes 2007/recipe203.txt', './recipes/recipes 2007/recipe200.txt', './recipes/recipes 2007/recipe199.txt', './recipes/recipes 2007/recipe208.txt', './recipes/recipes 2007/recipe205.txt', './recipes/recipes 2007/recipe197.txt', './recipes/recipes 2007/recipe198.txt', './recipes/recipes 2007/recipe204.txt', './recipes/recipes 2003/recipe127.txt', './recipes/recipes 2003/recipe119.txt', './recipes/recipes 2003/recipe118.txt', './recipes/recipes 2003/recipe130.txt', './recipes/recipes 2003/recipe125.txt', './recipes/recipes 2003/recipe124.txt', './recipes/recipes 2003/recipe115.txt', './recipes/recipes 2003/recipe120.txt', './recipes/recipes 2003/recipe121.txt', './recipes/recipes 2003/recipe129.txt', './recipes/recipes 2004/recipe149.txt', './recipes/recipes 2004/recipe140.txt', './recipes/recipes 2004/recipe144.txt', './recipes/recipes 2004/recipe133.txt', './recipes/recipes 2004/recipe136.txt', './recipes/recipes 2004/recipe141.txt', './recipes/recipes 2004/recipe135.txt', './recipes/recipes 2004/recipe138.txt', './recipes/recipes 2004/recipe137.txt', './recipes/recipes 2004/recipe134.txt', './recipes/recipes 2008/recipe222.txt', './recipes/recipes 2008/recipe225.txt', './recipes/recipes 2008/recipe214.txt', './recipes/recipes 2008/recipe228.txt', './recipes/recipes 2008/recipe230.txt', './recipes/recipes 2008/recipe221.txt', './recipes/recipes 2008/recipe211.txt', './recipes/recipes 2008/recipe227.txt', './recipes/recipes 2008/recipe217.txt', './recipes/recipes 2000/recipe59.txt', './recipes/recipes 2000/recipe67.txt', './recipes/recipes 2000/recipe54.txt', './recipes/recipes 2000/recipe69.txt', './recipes/recipes 2000/recipe56.txt', './recipes/recipes 2000/recipe63.txt', './recipes/recipes 2000/recipe61.txt', './recipes/recipes 2000/recipe51.txt', './recipes/recipes 2000/recipe52.txt', './recipes/recipes 2000/recipe58.txt', './recipes/recipes 2000/recipe68.txt', './recipes/recipes 2000/recipe57.txt', './recipes/recipes 2000/recipe60.txt', './recipes/recipes 2000/recipe70.txt', './recipes/recipes 2006/recipe172.txt', './recipes/recipes 2006/recipe183.txt', './recipes/recipes 2006/recipe177.txt', './recipes/recipes 2006/recipe187.txt', './recipes/recipes 2006/recipe179.txt', './recipes/recipes 2006/recipe185.txt', './recipes/recipes 2006/recipe189.txt', './recipes/recipes 2006/recipe178.txt', './recipes/recipes 2006/recipe175.txt', './recipes/recipes 2006/recipe180.txt', './recipes/recipes 2006/recipe184.txt', './recipes/recipes 2006/recipe186.txt', './recipes/recipes 2006/recipe176.txt', './recipes/recipes 2006/recipe173.txt', './recipes/recipes 2006/recipe181.txt', './recipes/recipes 2002/recipe91.txt', './recipes/recipes 2002/recipe96.txt', './recipes/recipes 2002/recipe103.txt', './recipes/recipes 2002/recipe105.txt', './recipes/recipes 2002/recipe98.txt', './recipes/recipes 2002/recipe104.txt', './recipes/recipes 2002/recipe93.txt', './recipes/recipes 2002/recipe100.txt', './recipes/recipes 2002/recipe95.txt', './recipes/recipes 2002/recipe101.txt', './recipes/recipes 2002/recipe97.txt', './recipes/recipes 2002/recipe107.txt', './recipes/recipes 2002/recipe106.txt', './recipes/recipes 2002/recipe99.txt']\n"
     ]
    }
   ],
   "source": [
    "#any(x in a for x in b) <-- syntax for any operator\n",
    "\n",
    "print(sweet_list)"
   ]
  },
  {
   "cell_type": "code",
   "execution_count": 31,
   "metadata": {},
   "outputs": [],
   "source": [
    "#savory_list"
   ]
  },
  {
   "cell_type": "code",
   "execution_count": 34,
   "metadata": {},
   "outputs": [
    {
     "name": "stdout",
     "output_type": "stream",
     "text": [
      "Experimental pie number 3!\n",
      "\n",
      "Savory Pie\n",
      "Ingredients:\n",
      "For the filling:\n",
      "2 teaspoons of tofu\n",
      "5 kilograms of beef\n",
      "7 ounces of pork\n",
      "7 ounces of poblanos\n",
      "8 ounces of peas\n",
      "7 teaspoons of carrots\n",
      "10 kilograms of onions\n",
      "7 kilograms of bell peppers\n",
      "\n",
      "For the crust:\n",
      "3 teaspoons of shortening\n",
      "5 teaspoons of butter\n",
      "5 tablespoons of flour\n",
      "4 tablespoons of sugar\n",
      "3 tablespoons of salt\n",
      "\n",
      "Instructions:\n",
      "For the filling:\n",
      "1. Add the poblanos.\n",
      "2. Mix the bell peppers and the pork together.\n",
      "3. Combine the beef and the peas.\n",
      "4. Combine the onions and the carrots.\n",
      "5. Simmer the tofu on low heat.\n",
      "\n",
      "For the crust:\n",
      "1. Combine the butter and the flour.\n",
      "2. Combine the shortening and the sugar.\n",
      "3. Mash up the salt.\n",
      "\n",
      "Bake at 400 degrees for 80 minutes\n",
      "\n"
     ]
    }
   ],
   "source": [
    "#testing printing files\n",
    "with open('./recipes/recipe3.txt','r') as fin:\n",
    "    print(fin.read())"
   ]
  },
  {
   "cell_type": "code",
   "execution_count": 42,
   "metadata": {},
   "outputs": [],
   "source": [
    "import os\n",
    "import os.path\n",
    "\n",
    "allfiles = list(os.walk(\"./phone_files\"))\n",
    "all_txt_files = []\n",
    "file_list = []\n",
    "\n",
    "for dir_tuple in allfiles:\n",
    "    file_list = dir_tuple[2]\n",
    "    for file_name in file_list:\n",
    "        if file_name[-3:] == 'txt':\n",
    "            all_txt_files.append(dir_tuple[0]+'/'+file_name)"
   ]
  },
  {
   "cell_type": "code",
   "execution_count": 44,
   "metadata": {
    "scrolled": false
   },
   "outputs": [
    {
     "name": "stdout",
     "output_type": "stream",
     "text": [
      "First name is WAYNE\n",
      "Last name is LOPEZ\n",
      "First name is EARL\n",
      "Last name is LEE\n",
      "First name is GERALD\n",
      "Last name is JONES\n",
      "First name is NICHOLAS\n",
      "Last name is GARCIA\n",
      "First name is NANCY\n",
      "Last name is LEWIS\n",
      "First name is ERIC\n",
      "Last name is WILLIAMS\n",
      "First name is LOIS\n",
      "Last name is SMITH\n",
      "First name is LAURA\n",
      "Last name is ALLEN\n",
      "First name is ERIC\n",
      "Last name is GREEN\n",
      "First name is MARIA\n",
      "Last name is SANCHEZ\n",
      "First name is LARRY\n",
      "Last name is DAVIS\n",
      "First name is FRED\n",
      "Last name is ADAMS\n",
      "First name is DORIS\n",
      "Last name is MOORE\n",
      "First name is DOROTHY\n",
      "Last name is WALKER\n",
      "First name is HENRY\n",
      "Last name is LEWIS\n",
      "First name is LAURA\n",
      "Last name is RAMIREZ\n",
      "First name is JEREMY\n",
      "Last name is SANCHEZ\n",
      "First name is JEAN\n",
      "Last name is MARTIN\n",
      "First name is TINA\n",
      "Last name is SCOTT\n",
      "First name is DAVID\n",
      "Last name is ALLEN\n",
      "First name is TRACY\n",
      "Last name is DAVIS\n",
      "First name is SHARON\n",
      "Last name is ALLEN\n",
      "First name is RANDY\n",
      "Last name is THOMAS\n",
      "First name is RICHARD\n",
      "Last name is JACKSON\n",
      "First name is KATHERINE\n",
      "Last name is KING\n",
      "First name is STEPHANIE\n",
      "Last name is BROWN\n",
      "First name is ANNA\n",
      "Last name is PEREZ\n",
      "First name is CINDY\n",
      "Last name is SMITH\n",
      "First name is ANTHONY\n",
      "Last name is TAYLOR\n",
      "First name is DENNIS\n",
      "Last name is YOUNG\n",
      "First name is LOUIS\n",
      "Last name is WHITE\n",
      "First name is PATRICK\n",
      "Last name is HARRIS\n",
      "First name is SANDRA\n",
      "Last name is YOUNG\n",
      "First name is KEVIN\n",
      "Last name is WILLIAMS\n",
      "First name is KIMBERLY\n",
      "Last name is ROBINSON\n",
      "First name is JERRY\n",
      "Last name is NELSON\n",
      "First name is JOSEPH\n",
      "Last name is LOPEZ\n",
      "First name is WAYNE\n",
      "Last name is DAVIS\n",
      "First name is BETTY\n",
      "Last name is RODRIGUEZ\n",
      "First name is JONATHAN\n",
      "Last name is JONES\n",
      "First name is BENJAMIN\n",
      "Last name is WALKER\n",
      "First name is ALICE\n",
      "Last name is PEREZ\n",
      "First name is JOAN\n",
      "Last name is THOMAS\n",
      "First name is JONATHAN\n",
      "Last name is HARRIS\n"
     ]
    }
   ],
   "source": [
    "for filename in all_txt_files:\n",
    "    f = open(filename,'r',encoding = 'latin1')\n",
    "    contents = f.read()\n",
    "    content_list = contents.split()\n",
    "    if content_list[-2][-1]==',':\n",
    "        lastname = content_list[-2][:-1]\n",
    "        firstname = content_list[-1]\n",
    "    else:\n",
    "        lastname = content_list[-1]\n",
    "        firstname = content_list[-2]\n",
    "    "
   ]
  },
  {
   "cell_type": "code",
   "execution_count": null,
   "metadata": {
    "collapsed": true
   },
   "outputs": [],
   "source": []
  }
 ],
 "metadata": {
  "kernelspec": {
   "display_name": "Python 3",
   "language": "python",
   "name": "python3"
  },
  "language_info": {
   "codemirror_mode": {
    "name": "ipython",
    "version": 3
   },
   "file_extension": ".py",
   "mimetype": "text/x-python",
   "name": "python",
   "nbconvert_exporter": "python",
   "pygments_lexer": "ipython3",
   "version": "3.6.3"
  }
 },
 "nbformat": 4,
 "nbformat_minor": 2
}
