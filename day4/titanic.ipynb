{
 "cells": [
  {
   "cell_type": "code",
   "execution_count": 1,
   "metadata": {},
   "outputs": [
    {
     "data": {
      "text/plain": [
       "42"
      ]
     },
     "execution_count": 1,
     "metadata": {},
     "output_type": "execute_result"
    }
   ],
   "source": [
    "14*3"
   ]
  },
  {
   "cell_type": "code",
   "execution_count": 41,
   "metadata": {
    "scrolled": false
   },
   "outputs": [],
   "source": [
    "#\n",
    "#\n",
    "# titanic.py\n",
    "#\n",
    "#\n",
    "\n",
    "import numpy as np\n",
    "from sklearn import datasets\n",
    "from sklearn import cross_validation\n",
    "import pandas as pd\n",
    "\n",
    "# For Pandas's read_csv, use header=0 when you know row 0 is a header row\n",
    "# df here is a \"dataframe\":\n",
    "df = pd.read_csv('titanic.csv', header=0)\n",
    "# df.head()\n",
    "# df.info()\n",
    "\n",
    "# let's drop columns with too few values or that won't be meaningful\n",
    "# Here's an example of dropping the 'body' column:\n",
    "drop_col = ['body','boat','home.dest','ticket','cabin']\n",
    "\n",
    "for col in drop_col:\n",
    "    df = df.drop(col, axis=1)  # axis = 1 means column\n",
    "\n",
    "# let's drop all of the rows with missing data:\n",
    "df = df.dropna()\n",
    "\n",
    "\n",
    "df_names = df['name'] #extracting a column of names so that we can find them later\n",
    "df_names.to_csv('names.csv')\n",
    "df = df.drop('name', axis = 1)\n",
    "\n",
    "# let's see our dataframe again...\n",
    "# I ended up with 1001 rows (anything over 500-600 seems reasonable)\n",
    "# _Don't_ use the result if it has fewer than 500 rows!\n",
    "# Instead, drop more columns BEFORE the df = df.dropna() call...\n",
    "# df.head()\n",
    "# df.info()"
   ]
  },
  {
   "cell_type": "code",
   "execution_count": 42,
   "metadata": {},
   "outputs": [
    {
     "name": "stdout",
     "output_type": "stream",
     "text": [
      "<class 'pandas.core.frame.DataFrame'>\n",
      "Int64Index: 1043 entries, 0 to 1308\n",
      "Data columns (total 8 columns):\n",
      "pclass      1043 non-null int64\n",
      "survived    1043 non-null int64\n",
      "sex         1043 non-null int64\n",
      "age         1043 non-null float64\n",
      "sibsp       1043 non-null int64\n",
      "parch       1043 non-null int64\n",
      "fare        1043 non-null float64\n",
      "embarked    1043 non-null int64\n",
      "dtypes: float64(2), int64(6)\n",
      "memory usage: 73.3 KB\n",
      "+++ end of pandas +++\n",
      "\n"
     ]
    }
   ],
   "source": [
    "# You'll need conversion to numeric datatypes for all input columns\n",
    "#   Here's one example\n",
    "#\n",
    "def tr_mf(s):\n",
    "    \"\"\" from string to number\n",
    "    \"\"\"\n",
    "    d = { 'male':0, 'female':1 }\n",
    "    return d[s]\n",
    "\n",
    "def embark(s):\n",
    "    \"\"\"turn port into number\n",
    "    0 is Cherbourg\n",
    "    1 is Queenstown\n",
    "    2 is Southampton\n",
    "    \"\"\"\n",
    "    d = {'C':0, 'Q':1, 'S':2}\n",
    "    return d[s]\n",
    "\n",
    "df['sex'] = df['sex'].map(tr_mf)  # apply the function to the column\n",
    "df['embarked'] = df['embarked'].map(embark)\n",
    "\n",
    "# let's see our dataframe again...\n",
    "# df.head()\n",
    "# df.info()\n",
    "\n",
    "\n",
    "# sending out dataframe to csv so we can see it\n",
    "df.to_csv('mod_titanic.csv')\n",
    "\n",
    "print(\"+++ end of pandas +++\\n\")"
   ]
  },
  {
   "cell_type": "code",
   "execution_count": 65,
   "metadata": {},
   "outputs": [
    {
     "name": "stdout",
     "output_type": "stream",
     "text": [
      "+++ start of numpy/scikit-learn +++\n",
      "KNN cv training-data score: 0.712\n",
      "KNN cv testing-data score: 0.653386454183\n"
     ]
    }
   ],
   "source": [
    "print(\"+++ start of numpy/scikit-learn +++\")\n",
    "\n",
    "# Note that you'll likely split cell this into multiple cells...\n",
    "\n",
    "#\n",
    "# Let's convert parts of the dataframe, df, to a numpy array\n",
    "# \n",
    "\n",
    "#\n",
    "# you can take away the top 42 passengers (with unknown survival/perish data) here:\n",
    "#\n",
    "\n",
    "df_mod = df[42:] #taking away passengers with unkown survival\n",
    "\n",
    "# extract the underlying data with the values attribute:\n",
    "X_data = df_mod.drop('survived', axis=1).values        # everything except the 'survival' column\n",
    "y_data = df_mod[ 'survived' ].values      # also addressable by column name(s)\n",
    "\n",
    "# feature engineering...\n",
    "#X_data[:,0] *= 100   # maybe the first column is worth much more!\n",
    "#X_data[:,3] *= 100   # maybe the fourth column is worth much more!\n",
    "\n",
    "from sklearn.neighbors import KNeighborsClassifier\n",
    "knn = KNeighborsClassifier(n_neighbors=10)\n",
    "\n",
    "# cross-validate (use part of the training data for training - and part for testing)\n",
    "#   first, create cross-validation data (here 3/4 train and 1/4 test)\n",
    "cv_data_train, cv_data_test, cv_target_train, cv_target_test = \\\n",
    "    cross_validation.train_test_split(X_data, y_data, test_size=0.25) # random_state=0 \n",
    "    \n",
    "knn.fit(cv_data_train, cv_target_train) \n",
    "print(\"KNN cv training-data score:\", knn.score(cv_data_train,cv_target_train))\n",
    "print(\"KNN cv testing-data score:\", knn.score(cv_data_test,cv_target_test))"
   ]
  },
  {
   "cell_type": "code",
   "execution_count": 96,
   "metadata": {
    "scrolled": false
   },
   "outputs": [
    {
     "name": "stdout",
     "output_type": "stream",
     "text": [
      "0.641466135458\n",
      "0.652565737052\n",
      "0.661864541833\n",
      "0.666003984064\n",
      "0.663071713147\n",
      "0.665211155378\n",
      "0.66209561753\n",
      "0.663816733068\n",
      "0.667844621514\n",
      "0.668641434263\n",
      "0.672067729084\n",
      "0.674235059761\n",
      "0.675310756972\n",
      "0.677521912351\n",
      "0.676370517928\n",
      "0.676338645418\n",
      "0.674661354582\n",
      "0.676219123506\n",
      "0.675243027888\n",
      "0.677342629482\n",
      "0.676677290837\n",
      "0.677442231076\n",
      "0.675665338645\n",
      "0.676494023904\n",
      "0.676123505976\n",
      "0.675880478088\n",
      "0.674764940239\n",
      "0.676346613546\n",
      "0.676067729084\n",
      "0.67619123506\n",
      "0.675171314741\n",
      "0.675294820717\n",
      "0.675043824701\n",
      "0.673135458167\n",
      "0.675402390438\n",
      "0.675047808765\n",
      "0.673725099602\n",
      "0.673924302789\n",
      "0.67293625498\n",
      "0.672816733068\n",
      "0.671334661355\n",
      "0.672414342629\n",
      "0.671521912351\n",
      "0.672501992032\n",
      "0.671239043825\n",
      "0.67203187251\n",
      "0.671290836653\n",
      "0.670760956175\n",
      "0.671920318725\n",
      "0.669697211155\n",
      "0.671466135458\n",
      "0.671067729084\n",
      "0.670988047809\n",
      "0.670525896414\n",
      "0.670187250996\n",
      "0.670131474104\n",
      "0.669011952191\n",
      "0.671474103586\n",
      "0.670541832669\n",
      "0.670585657371\n",
      "0.668685258964\n",
      "0.669565737052\n",
      "0.667952191235\n",
      "0.67061752988\n",
      "0.668852589641\n",
      "0.66919123506\n",
      "0.667657370518\n",
      "0.668047808765\n",
      "0.666482071713\n",
      "0.667219123506\n",
      "0.666988047809\n",
      "0.666952191235\n",
      "0.663438247012\n",
      "0.665067729084\n",
      "0.664653386454\n",
      "0.664330677291\n",
      "0.664083665339\n",
      "0.661306772908\n",
      "0.66222310757\n",
      "0.661593625498\n",
      "0.661219123506\n",
      "0.659733067729\n",
      "0.661258964143\n",
      "0.66077689243\n",
      "0.660342629482\n",
      "0.660693227092\n",
      "0.661800796813\n",
      "0.65896812749\n",
      "0.660007968127\n",
      "0.661541832669\n",
      "0.660103585657\n",
      "0.658952191235\n",
      "0.659155378486\n",
      "0.658820717131\n",
      "0.658948207171\n",
      "0.659406374502\n",
      "0.658764940239\n",
      "0.659151394422\n",
      "0.658916334661\n",
      "0.656800796813\n",
      "the best k is 14\n"
     ]
    }
   ],
   "source": [
    "# This cell finds the best k value\n",
    "\n",
    "#initializing info for best k\n",
    "best_k = 0\n",
    "highest_ac = 0\n",
    "best_k_info = (best_k, highest_ac)\n",
    "\n",
    "#initializing how many k values will be tried and how many samples of each will be taken\n",
    "k_max = 100\n",
    "num_samples = 1000\n",
    "\n",
    "#importing useful function\n",
    "from sklearn.neighbors import KNeighborsClassifier\n",
    "\n",
    "#looping through k values up to k_max and taking num_samples samples for each to find best k\n",
    "all_ac = []\n",
    "for i in range(k_max):\n",
    "    k = i + 1\n",
    "    ac_counter = 0\n",
    "    knn = KNeighborsClassifier(n_neighbors=k)\n",
    "    for j in range(num_samples):\n",
    "        cv_data_train, cv_data_test, cv_target_train, cv_target_test = \\\n",
    "            cross_validation.train_test_split(X_data, y_data, test_size=0.25)\n",
    "        knn.fit(cv_data_train, cv_target_train)\n",
    "        train_score = knn.score(cv_data_train,cv_target_train)\n",
    "        test_score = knn.score(cv_data_test,cv_target_test)\n",
    "        ac_counter += test_score\n",
    "\n",
    "    ac_avg = ac_counter/num_samples\n",
    "    all_ac.append(ac_avg)\n",
    "    print(ac_avg)\n",
    "    \n",
    "    \n",
    "    if ac_avg > best_k_info[1]:\n",
    "        best_k_info = (k,ac_avg)\n",
    "print(\"the best k is\",best_k_info[0])\n",
    "\n",
    "knn = KNeighborsClassifier(n_neighbors=best_k_info[0])"
   ]
  },
  {
   "cell_type": "code",
   "execution_count": 118,
   "metadata": {},
   "outputs": [
    {
     "data": {
      "text/plain": [
       "Text(0.5,1,'XKCD Style Plot Sweeping K value against Accuracy')"
      ]
     },
     "execution_count": 118,
     "metadata": {},
     "output_type": "execute_result"
    },
    {
     "data": {
      "image/png": "[encoded data removed]",
      "text/plain": [
       "<Figure size 432x288 with 1 Axes>"
      ]
     },
     "metadata": {},
     "output_type": "display_data"
    }
   ],
   "source": [
    "from matplotlib import *\n",
    "font_manager._rebuild()\n",
    "import matplotlib.pyplot as plt\n",
    "import numpy as np\n",
    "%matplotlib inline\n",
    "\n",
    "test_ac = [.67,.68,.69,.78]\n",
    "k_val_test = [2,3,4,5]\n",
    "\n",
    "k_val = np.linspace(0,k_max,k_max+1)[1:]\n",
    "\n",
    "\n",
    "plt.xkcd()\n",
    "plt.plot(k_val,all_ac)\n",
    "plt.xlabel('K value')\n",
    "plt.ylabel('Percentage Correct')\n",
    "plt.savefig('sweep_k_titanic.png',bbox_inches = 'tight',pad_inches = 1)\n",
    "plt.xlim((0,100))\n",
    "plt.ylim((.6,.7))\n",
    "plt.title(\"XKCD Style Plot Sweeping K value against Accuracy\")\n",
    "\"\"\"When this was run with k values from 1 to 100 with samples of 1000 for each, the best k was 15\"\"\""
   ]
  },
  {
   "cell_type": "code",
   "execution_count": null,
   "metadata": {
    "collapsed": true
   },
   "outputs": [],
   "source": []
  }
 ],
 "metadata": {
  "kernelspec": {
   "display_name": "Python 3",
   "language": "python",
   "name": "python3"
  },
  "language_info": {
   "codemirror_mode": {
    "name": "ipython",
    "version": 3
   },
   "file_extension": ".py",
   "mimetype": "text/x-python",
   "name": "python",
   "nbconvert_exporter": "python",
   "pygments_lexer": "ipython3",
   "version": "3.6.3"
  }
 },
 "nbformat": 4,
 "nbformat_minor": 1
}
