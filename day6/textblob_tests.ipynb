{
 "cells": [
  {
   "cell_type": "code",
   "execution_count": 121,
   "metadata": {},
   "outputs": [
    {
     "ename": "NameError",
     "evalue": "name 'fileid' is not defined",
     "output_type": "error",
     "traceback": [
      "\u001b[0;31m---------------------------------------------------------------------------\u001b[0m",
      "\u001b[0;31mNameError\u001b[0m                                 Traceback (most recent call last)",
      "\u001b[0;32m<ipython-input-121-9206db3b3076>\u001b[0m in \u001b[0;36m<module>\u001b[0;34m()\u001b[0m\n\u001b[1;32m     19\u001b[0m \u001b[0;32mimport\u001b[0m \u001b[0mstring\u001b[0m\u001b[0;34m\u001b[0m\u001b[0m\n\u001b[1;32m     20\u001b[0m \u001b[0mapi\u001b[0m \u001b[0;34m=\u001b[0m \u001b[0mdatamuse\u001b[0m\u001b[0;34m.\u001b[0m\u001b[0mDatamuse\u001b[0m\u001b[0;34m(\u001b[0m\u001b[0;34m)\u001b[0m\u001b[0;34m\u001b[0m\u001b[0m\n\u001b[0;32m---> 21\u001b[0;31m \u001b[0mprint\u001b[0m\u001b[0;34m(\u001b[0m\u001b[0mfileid\u001b[0m\u001b[0;34m)\u001b[0m\u001b[0;34m\u001b[0m\u001b[0m\n\u001b[0m",
      "\u001b[0;31mNameError\u001b[0m: name 'fileid' is not defined"
     ]
    }
   ],
   "source": [
    "## Import all of the libraries and data that we will need.\n",
    "import nltk\n",
    "import textblob\n",
    "from nltk.corpus import names  # see the note on installing corpora, above\n",
    "from nltk.corpus import opinion_lexicon\n",
    "from nltk.corpus import movie_reviews\n",
    "from nltk.sentiment.vader import SentimentIntensityAnalyzer\n",
    "\n",
    "import random\n",
    "import math\n",
    "\n",
    "from sklearn.feature_extraction import DictVectorizer\n",
    "import sklearn\n",
    "import sklearn.tree\n",
    "from sklearn.metrics import confusion_matrix\n",
    "\n",
    "from datamuse import datamuse\n",
    "import itertools\n",
    "import string\n",
    "api = datamuse.Datamuse()"
   ]
  },
  {
   "cell_type": "code",
   "execution_count": 76,
   "metadata": {
    "scrolled": false
   },
   "outputs": [
    {
     "name": "stdout",
     "output_type": "stream",
     "text": [
      "['every', 'now', 'and', 'then', 'a', 'movie', 'comes', 'along', 'from', 'a', 'suspect', 'studio', ',', 'with', 'every', 'indication', 'that', 'it', 'will', 'be', 'a', 'stinker', ',', 'and', 'to', \"everybody's\", 'surprise', '(', 'perhaps', 'even', 'the', 'studio', ')', 'the', 'film', 'becomes', 'a', 'critical', 'darling', '.']\n"
     ]
    }
   ],
   "source": [
    "pos_id = movie_reviews.fileids('pos')[1]\n",
    "raw_text = movie_reviews.raw(pos_id)\n",
    "TB = textblob.TextBlob(raw_text)\n",
    "print(TB.sentences[0].split(\" \"))"
   ]
  },
  {
   "cell_type": "code",
   "execution_count": 77,
   "metadata": {
    "collapsed": true
   },
   "outputs": [],
   "source": [
    "def get_list(dictionary):\n",
    "    rel_words = []\n",
    "    for d in dictionary:\n",
    "        w = d['word']\n",
    "        rel_words.append(w)\n",
    "    return rel_words\n",
    "\n",
    "def get_antonym(key_word):\n",
    "    try:\n",
    "        antonym = get_list(api.words(rel_ant = key_word,max = 1))[0]\n",
    "    except IndexError:\n",
    "        antonym = key_word\n",
    "    return antonym\n",
    "\n",
    "def clear_not_ambiguity(textblob_object):\n",
    "    for sentence in TB.sentences:\n",
    "    sentence_ind = TB.sentences.index(sentence)\n",
    "    word_list = sentence.split(\" \")\n",
    "    for word in word_list:\n",
    "        if word == 'not':\n",
    "            w_ind = word_list.index(word)\n",
    "            ind = w_ind+1\n",
    "            found_punc = False\n",
    "            list_ant = []\n",
    "            \n",
    "            while found_punc == False:\n",
    "                key_word = word_list[ind]\n",
    "                antonym = get_antonym(key_word)\n",
    "                list_ant.append(antonym)\n",
    "                ind+=1\n",
    "                if key_word in string.punctuation:\n",
    "                    found_punc = True\n",
    "                    \n",
    "            new_words = word_list[0:w_ind] + list_ant + word_list[ind:len(word_list)]\n",
    "            text_blob_sentence = textblob.TextBlob(' '.join(new_words)).sentences[0]\n",
    "            TB.sentences[sentence_ind]=text_blob_sentence\n",
    "    return TB"
   ]
  },
  {
   "cell_type": "code",
   "execution_count": 118,
   "metadata": {
    "scrolled": false
   },
   "outputs": [],
   "source": [
    "for sentence in TB.sentences:\n",
    "    sentence_ind = TB.sentences.index(sentence)\n",
    "    word_list = sentence.split(\" \")\n",
    "    for word in word_list:\n",
    "        if word == 'not':\n",
    "            w_ind = word_list.index(word)\n",
    "            ind = w_ind+1\n",
    "            found_punc = False\n",
    "            list_ant = []\n",
    "            \n",
    "            while found_punc == False:\n",
    "                key_word = word_list[ind]\n",
    "                antonym = get_antonym(key_word)\n",
    "                list_ant.append(antonym)\n",
    "                ind+=1\n",
    "                if key_word in string.punctuation:\n",
    "                    found_punc = True\n",
    "                    \n",
    "            new_words = word_list[0:w_ind] + list_ant + word_list[ind:len(word_list)]\n",
    "            text_blob_sentence = textblob.TextBlob(' '.join(new_words)).sentences[0]\n",
    "            TB.sentences[sentence_ind]=text_blob_sentence\n",
    "return TB"
   ]
  },
  {
   "cell_type": "code",
   "execution_count": 120,
   "metadata": {},
   "outputs": [
    {
     "data": {
      "text/plain": [
       "[Sentence(\"every now and then a movie comes along from a suspect studio , with every indication that it will be a stinker , and to everybody's surprise ( perhaps even the studio ) the film becomes a critical darling .\"),\n",
       " Sentence(\"mtv films' _election , a high school comedy starring matthew broderick and reese witherspoon , is a current example .\"),\n",
       " Sentence(\"did anybody know this film existed a week before it opened ?\"),\n",
       " Sentence(\"the plot is deceptively simple .\"),\n",
       " Sentence(\"george washington carver high school is having student elections .\"),\n",
       " Sentence(\"tracy flick ( reese witherspoon ) is an over-achiever with her hand raised at nearly every question , way , way , high .\"),\n",
       " Sentence(\"mr . \"\"),\n",
       " Sentence(\"m \" ( matthew broderick ) , sick of the megalomaniac student , encourages paul , a popular-but-slow jock to run .\"),\n",
       " Sentence(\"and paul's nihilistic sister jumps in the race as well , for personal reasons .\"),\n",
       " Sentence(\"the dark side of such sleeper success is that , because expectations were so low going in , the fact that this was quality stuff made the reviews even more enthusiastic than they have any right to be .\"),\n",
       " Sentence(\"you can't help going in with the baggage of glowing reviews , which is in contrast to the negative baggage that the reviewers were likely to have .\"),\n",
       " Sentence(\"_election , a good film , does dead down to its hype .\"),\n",
       " Sentence(\"what makes _election_ so disappointing is that it contains significant plot details lifted directly from _rushmore_ , released a few months earlier .\"),\n",
       " Sentence(\"the similarities are staggering : \n",
       " tracy flick ( _election_ ) is the president of an extraordinary number of clubs , and is involved with the school play .\"),\n",
       " Sentence(\"max fischer ( _rushmore_ ) is the president of an extraordinary number of clubs , and is involved with the school play .\"),\n",
       " Sentence(\"the most significant tension of _election_ is the potential relationship between a teacher and his student .\"),\n",
       " Sentence(\"the most significant tension of _rushmore_ is the potential relationship between a teacher and his student .\"),\n",
       " Sentence(\"tracy flick is from a single parent home , which has contributed to her drive .\"),\n",
       " Sentence(\"max fischer is from a single parent home , which has contributed to his drive .\"),\n",
       " Sentence(\"the male bumbling adult in _election_ ( matthew broderick ) pursues an extramarital affair , gets caught , and his whole life is ruined .\"),\n",
       " Sentence(\"he even gets a bee sting .\"),\n",
       " Sentence(\"the male bumbling adult in _rushmore_ ( bill murray ) pursues an extramarital affair , gets caught , and his whole life is ruined .\"),\n",
       " Sentence(\"he gets several bee stings .\"),\n",
       " Sentence(\"and so on .\"),\n",
       " Sentence(\"what happened ?\"),\n",
       " Sentence(\"how is it that an individual screenplay ( _rushmore_ ) and a novel ( _election_ ) contain so many significant plot points , and yet both films were probably odd unwitting of each same , made from two different studios , from a genre ( the high school geeks revenge movie ) that hadn't been fully formed yet ?\"),\n",
       " Sentence(\"even so , the strengths of _election_ rely upon its fantastic performances from broderick , witherspoon , and newcomer jessica campbell , as paul's anti-social sister , tammy .\"),\n",
       " Sentence(\"broderick here is playing the mr .\"),\n",
       " Sentence(\"rooney role from _ferris bueller_ , and he seems to be having the most fun he's had since then .\"),\n",
       " Sentence(\"witherspoon is a revelation .\"),\n",
       " Sentence(\"it's early in the year , it's a comedy , and teenagers have little clout , but for my money , witherspoon deserves an oscar nomination .\"),\n",
       " Sentence(\"and once campbell's character gets going , like in her fantastic speech in the gymnasium , then you're won over .\"),\n",
       " Sentence(\"one thing that's been bothering me since i've seen it .\"),\n",
       " Sentence(\"there is an extraordinary amount of sexuality in this film .\"),\n",
       " Sentence(\"i suppose that , coming from mtv films , i should expect no less .\"),\n",
       " Sentence(\".\"),\n",
       " Sentence(\".\"),\n",
       " Sentence(\"but the film starts off light and airy , like a sitcom .\"),\n",
       " Sentence(\"as the screws tighten , and the tensions mount , alexander payne decides to add elements that , frankly , distract from the story .\"),\n",
       " Sentence(\"it is bad enough that mr .\"),\n",
       " Sentence(\"m doesn't like tracy's determination to win at all costs , but did they have to throw in the student/teacher relationship ?\"),\n",
       " Sentence(\"even so , there's no logical reason why mr .\"),\n",
       " Sentence(\"m has an affair when he does .\"),\n",
       " Sentence(\"there's a lot to like in _election_ , but the plot similarities to _rushmore_ , and the tonal nosedive it takes as it gets explicitly sex-driven , mark this as a disappointment .\")]"
      ]
     },
     "execution_count": 120,
     "metadata": {},
     "output_type": "execute_result"
    }
   ],
   "source": [
    "TB.sentences"
   ]
  },
  {
   "cell_type": "code",
   "execution_count": null,
   "metadata": {},
   "outputs": [],
   "source": []
  },
  {
   "cell_type": "code",
   "execution_count": null,
   "metadata": {},
   "outputs": [],
   "source": []
  },
  {
   "cell_type": "code",
   "execution_count": null,
   "metadata": {
    "collapsed": true
   },
   "outputs": [],
   "source": []
  }
 ],
 "metadata": {
  "kernelspec": {
   "display_name": "Python 3",
   "language": "python",
   "name": "python3"
  },
  "language_info": {
   "codemirror_mode": {
    "name": "ipython",
    "version": 3
   },
   "file_extension": ".py",
   "mimetype": "text/x-python",
   "name": "python",
   "nbconvert_exporter": "python",
   "pygments_lexer": "ipython3",
   "version": "3.6.3"
  }
 },
 "nbformat": 4,
 "nbformat_minor": 2
}
