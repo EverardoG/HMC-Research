{
 "cells": [
  {
   "cell_type": "code",
   "execution_count": 1,
   "metadata": {},
   "outputs": [
    {
     "name": "stdout",
     "output_type": "stream",
     "text": [
      "Using matplotlib backend: Qt5Agg\n"
     ]
    }
   ],
   "source": [
    "def inclass1():\n",
    "    \"\"\"\n",
    "    Simple demo of a scatter plot.\n",
    "    \"\"\"\n",
    "    import numpy as np\n",
    "    import matplotlib.pyplot as plt\n",
    "\n",
    "\n",
    "    N = 50\n",
    "    x = np.random.rand(N)\n",
    "    y = np.random.rand(N)\n",
    "    colors = np.random.rand(N)\n",
    "    area = np.pi * (15 * np.random.rand(N))**2  # 0 to 15 point radiuses\n",
    "\n",
    "    plt.scatter(x, y, s=area, c=colors, alpha=0.5)\n",
    "    plt.show()\n",
    "\n",
    "%matplotlib\n",
    "inclass1()"
   ]
  },
  {
   "cell_type": "code",
   "execution_count": 2,
   "metadata": {
    "collapsed": true
   },
   "outputs": [],
   "source": [
    "def example1():\n",
    "    import numpy as np\n",
    "    import matplotlib.pyplot as plt\n",
    "    import matplotlib.cm as cm\n",
    "\n",
    "    X = np.linspace(-np.pi, np.pi, 256, endpoint=True)\n",
    "    C,S = np.cos(X), np.sin(X)\n",
    "    plt.figure()\n",
    "    plt.plot(X,C)\n",
    "    plt.plot(X,S)\n",
    "\n",
    "    plt.show()\n",
    "\n",
    "example1()"
   ]
  },
  {
   "cell_type": "code",
   "execution_count": 2,
   "metadata": {
    "collapsed": true
   },
   "outputs": [],
   "source": [
    "def example2():\n",
    "    import numpy as np\n",
    "    import matplotlib.pyplot as plt\n",
    "    import matplotlib.cm as cm\n",
    "\n",
    "    # Create a new figure of size 8x6 points, using 100 dots per inch\n",
    "    plt.figure(figsize=(8,6), dpi=80)\n",
    "\n",
    "    # Create a new subplot from a grid of 1x1\n",
    "    plt.subplot(111)\n",
    "\n",
    "    X = np.linspace(-np.pi, np.pi, 256,endpoint=True)\n",
    "    C,S = np.cos(X), np.sin(X)\n",
    "\n",
    "    # Plot cosine using blue color with a continuous line of width 1 (pixels)\n",
    "    plt.plot(X, C, color=\"blue\", linewidth=1.0, linestyle=\"-\")\n",
    "\n",
    "    # Plot sine using green color with a continuous line of width 1 (pixels)\n",
    "    plt.plot(X, S, color=\"green\", linewidth=1.0, linestyle=\"-\")\n",
    "\n",
    "    # Set x limits\n",
    "    plt.xlim(-4.0,4.0)\n",
    "\n",
    "    # Set x ticks\n",
    "    plt.xticks(np.linspace(-4,4,9,endpoint=True))\n",
    "\n",
    "    # Set y limits\n",
    "    plt.ylim(-1.0,1.0)\n",
    "\n",
    "    # Set y ticks\n",
    "    plt.yticks(np.linspace(-1,1,5,endpoint=True))\n",
    "\n",
    "    # Save figure using 72 dots per inch\n",
    "    # savefig(\"../figures/exercice_2.png\",dpi=72)\n",
    "\n",
    "    # Show result on screen\n",
    "    plt.show()\n"
   ]
  },
  {
   "cell_type": "code",
   "execution_count": 3,
   "metadata": {
    "collapsed": true
   },
   "outputs": [],
   "source": [
    "example2()"
   ]
  },
  {
   "cell_type": "code",
   "execution_count": 2,
   "metadata": {},
   "outputs": [
    {
     "name": "stdout",
     "output_type": "stream",
     "text": [
      "Using matplotlib backend: Qt5Agg\n"
     ]
    }
   ],
   "source": [
    "#hwpr1\n",
    "import numpy as np\n",
    "import matplotlib.pyplot as plt\n",
    "%matplotlib"
   ]
  },
  {
   "cell_type": "code",
   "execution_count": 3,
   "metadata": {
    "scrolled": false
   },
   "outputs": [
    {
     "name": "stdout",
     "output_type": "stream",
     "text": [
      "C[:,3] [ 0.          0.02040816  0.04081633  0.06122449  0.08163265  0.10204082\n",
      "  0.12244898  0.14285714  0.16326531  0.18367347  0.20408163  0.2244898\n",
      "  0.24489796  0.26530612  0.28571429  0.30612245  0.32653061  0.34693878\n",
      "  0.36734694  0.3877551   0.40816327  0.42857143  0.44897959  0.46938776\n",
      "  0.48979592  0.51020408  0.53061224  0.55102041  0.57142857  0.59183673\n",
      "  0.6122449   0.63265306  0.65306122  0.67346939  0.69387755  0.71428571\n",
      "  0.73469388  0.75510204  0.7755102   0.79591837  0.81632653  0.83673469\n",
      "  0.85714286  0.87755102  0.89795918  0.91836735  0.93877551  0.95918367\n",
      "  0.97959184  1.        ]\n"
     ]
    },
    {
     "data": {
      "text/plain": [
       "((0, 1), [])"
      ]
     },
     "execution_count": 3,
     "metadata": {},
     "output_type": "execute_result"
    }
   ],
   "source": [
    "#creating figure with white background\n",
    "\n",
    "fig = plt.figure(figsize=(6,6), facecolor='white')\n",
    "\n",
    "#New axis over the whole figure, no frame and a 1:1 aspect ratio\n",
    "ax = fig.add_axes([0,0,1,1],frameon = False, aspect = 1)\n",
    "\n",
    "# Number of ring\n",
    "n = 50\n",
    "size_min = 0\n",
    "size_max = 1\n",
    "\n",
    "#Ring Position\n",
    "P = np.random.uniform(0,1,(n,2))\n",
    "\n",
    "#Ring Colors\n",
    "C = np.ones((n,4)) * (0,0,0,1)\n",
    "\n",
    "#Alpha color channel goes from 0 (transparent) to 1 (opaque)\n",
    "C[:,3] = np.linspace(0,1,n)\n",
    "\n",
    "#Ring sizes\n",
    "S = np.linspace(size_min,size_max,n)\n",
    "\n",
    "#Scatter Plot\n",
    "scat = ax.scatter(P[:,0],P[:,1],s = S, lw = 0.5,\n",
    "                  edgecolors = C,facecolors = 'None')\n",
    "\n",
    "#Ensure limits are [0,1] and remove ticks\n",
    "ax.set_xlim(0,1), ax.set_xticks([])\n",
    "ax.set_ylim(0,1), ax.set_yticks([])"
   ]
  },
  {
   "cell_type": "code",
   "execution_count": null,
   "metadata": {
    "collapsed": true
   },
   "outputs": [],
   "source": []
  }
 ],
 "metadata": {
  "kernelspec": {
   "display_name": "Python 3",
   "language": "python",
   "name": "python3"
  },
  "language_info": {
   "codemirror_mode": {
    "name": "ipython",
    "version": 3
   },
   "file_extension": ".py",
   "mimetype": "text/x-python",
   "name": "python",
   "nbconvert_exporter": "python",
   "pygments_lexer": "ipython3",
   "version": "3.6.3"
  }
 },
 "nbformat": 4,
 "nbformat_minor": 2
}
